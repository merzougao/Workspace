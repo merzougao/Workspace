{
 "metadata": {
  "name": "",
  "signature": "sha256:dbf7d805dec54c1baa8c045eed99f7be2e9fd1ef47dde3f1f5e956a2848368a4"
 },
 "nbformat": 3,
 "nbformat_minor": 0,
 "worksheets": [
  {
   "cells": [
    {
     "cell_type": "heading",
     "level": 1,
     "metadata": {},
     "source": [
      "Random Elements"
     ]
    },
    {
     "cell_type": "markdown",
     "metadata": {},
     "source": [
      "$(\\Omega, \\mathcal{F}, P)$ is a $\\textbf{Probability space}$\n",
      "\n",
      "A $\\textbf{Random variable}$ is a measurable function $X : \\Omega \\rightarrow \\mathbb{R}$\n",
      "\n",
      "A $\\textbf{Random element}$ is a measurable transformation $X : \\Omega \\rightarrow Y$ with $(Y, \\mathcal{S})$ measurable space.\n",
      "\n",
      "\n",
      "\n",
      "The $\\textbf{Distribution}$ of X is the induced measure :\n",
      "\n",
      "\\begin{align}\n",
      "P_X : \\sigma(Y) &\\longmapsto [0,1] \\\\\n",
      "B &\\longmapsto P\\{\\omega: X(\\omega) \\in B\\} \\quad &\\text{(written also $P\\{X \\in B\\}$}) \\\\\n",
      "B &\\longmapsto P\\{\\omega \\in X^{-1}(B)\\} &\\text{(written also $PX^{-1}(B)\\}$})\n",
      "\\end{align}\n",
      "\n",
      "The $\\textbf{Distribution function}$ of X is defined as : \n",
      "\n",
      "\\begin{align}\n",
      "F:\\mathbb{R} &\\longmapsto \\mathbb{R} \\\\\n",
      "x &\\longmapsto P_X(-\\infty, x)\n",
      "\\end{align}\n",
      "\n",
      "The $\\textbf{Expectation}$ of a random variable $X$ is $E(X) = \\displaystyle\\int_{\\Omega} X(\\omega)dP(\\omega)$"
     ]
    },
    {
     "cell_type": "heading",
     "level": 3,
     "metadata": {},
     "source": [
      "Random variable to Distribution function"
     ]
    },
    {
     "cell_type": "markdown",
     "metadata": {},
     "source": [
      "See above"
     ]
    },
    {
     "cell_type": "heading",
     "level": 3,
     "metadata": {},
     "source": [
      "Distribution function to Random variable"
     ]
    },
    {
     "cell_type": "markdown",
     "metadata": {},
     "source": [
      "* Here we start with the distribution function $F$.\n",
      "\n",
      "\\begin{align}\n",
      "P_I : I &\\longmapsto [0,1] \\quad I \\in \\mathbb{R}^2 \\\\\n",
      "[a,b] &\\longmapsto F(b) - F(a)\n",
      "\\end{align}\n",
      "\n",
      "* We can define $P_X$ on the algebra $\\mathcal{A} = \\{A:A = \\sum_i [a_i, b_i]\\}$ with $-\\infty < a_i \\leq b_i < \\infty$ \n",
      "\n",
      "\\begin{align}\n",
      "P_X : \\mathcal{A} &\\longmapsto [0,1] \\\\\n",
      "A &\\longmapsto \\sum_i P_I[a_i,b_i] \n",
      "\\end{align}\n",
      "\n",
      "* $P_X$ is a probability measure on the algebra $\\mathcal{A}$ so it can be extended to the minimal $\\sigma$-algebra containing all closed intervals. We have then $\\sigma(\\mathcal{A}) = \\mathcal{B}(\\mathbb{R})$. We just finally take this new measure $P$ and construct the probability space $(\\mathbb{R}, \\mathcal{B}(\\mathbb{R}),P)$ and :\n",
      "\n",
      "\\begin{align}\n",
      "X : \\mathbb{R} &\\longmapsto \\mathbb{R} \\\\\n",
      "x &\\longmapsto x\n",
      "\\end{align}"
     ]
    },
    {
     "cell_type": "heading",
     "level": 3,
     "metadata": {},
     "source": [
      "Discrete random variable"
     ]
    },
    {
     "cell_type": "markdown",
     "metadata": {},
     "source": [
      "* $\\underline{\\textbf{Definition}}$\n",
      "\n",
      "$P_X$ is called $\\textbf{discrete}$ if it  takes values in a countable set $\\mathcal{C} = \\{c_1,c_2,\\dots\\}$ s.t $P_x(\\mathcal{C}^c) = 0$\n",
      "\n",
      "\n",
      "We have the random variable: \n",
      "\n",
      "\\begin{align}\n",
      "X : \\Omega &\\longmapsto \\mathcal{C} \\\\\n",
      "\\omega &\\longmapsto c_i\n",
      "\\end{align}"
     ]
    },
    {
     "cell_type": "markdown",
     "metadata": {},
     "source": [
      "* $\\underline{\\textbf{Distribution}}$\n",
      "\n",
      "We derive the distribution : \n",
      "\n",
      "\\begin{align}\n",
      "P_X : \\sigma(\\mathcal{C}) &\\longmapsto [0,1] \\\\\n",
      "C &\\longmapsto P\\{X^{-1}(C)\\} = P\\Big\\{X^{-1}\\Big(\\bigcup_{c_i \\in C} c_i\\Big)\\Big\\} = P\\Big\\{\\bigcup_{c_i \\in C}X^{-1}(\\{c_i\\})\\Big\\} \\\\\n",
      "C &\\longmapsto \\boxed{\\displaystyle\\sum_{c_i \\in C} PX^{-1}(\\{c_i\\})} \\quad \\Big( = \\sum_{c_i \\in C} p_m(c_i) = \\sum_i p_i\\mathbb{1}_C(\\{c_i\\})\\Big)\n",
      "\\end{align}"
     ]
    },
    {
     "cell_type": "markdown",
     "metadata": {},
     "source": [
      "* $\\underline{\\textbf{Probability mass function}}$\n",
      "\n",
      "$p_m$ is called the $\\textbf{probability mass function}$ defined by :\n",
      "\n",
      "\\begin{align}\n",
      "p_m:\\mathcal{C} &\\longmapsto [0,1] \\\\\n",
      "c_i &\\longmapsto p_i\n",
      "\\end{align}"
     ]
    },
    {
     "cell_type": "markdown",
     "metadata": {},
     "source": [
      "* $\\underline{\\textbf{Expectation}}$\n",
      "\n",
      "When $\\mathcal{C} \\subset \\mathbb{R}$ we have for $I$ countable index set : $\\mathcal{C} = \\bigsqcup_i \\{c_i\\}$. We have then :\n",
      "\n",
      "\\begin{align}\n",
      "X(\\omega) = \\sum_{c_i \\in \\mathcal{C}} c_i\\mathbb{1}_{X^{-1}\\{c_i\\}}(\\omega) \\\\\n",
      "E(X) &= \\int_{\\Omega} \\sum_{c_i \\in \\mathcal{C}} c_i\\mathbb{1}_{X^{-1}\\{c_i\\}}(\\omega) dP(\\omega) \\\\ \n",
      "&= \\sum_{c_i \\in \\mathcal{C}} c_iP(X^{-1}\\{c_i\\}) \\\\ \n",
      "E(X) &= \\boxed{\\displaystyle\\sum_{c_i \\in \\mathcal{C}} c_ip_m(c_i)} \\\\\n",
      "\\end{align}"
     ]
    },
    {
     "cell_type": "markdown",
     "metadata": {},
     "source": [
      "* $\\underline{\\textbf{Sum of two independent random elements}}$\n",
      "\n",
      "Let $\\mathcal{C_1}, \\mathcal{C_2}$ be coutable sets and $X_i:\\Omega \\longmapsto \\mathcal{C_i} \\quad i \\in \\{1,2\\}$ be random elements. \n",
      "\n",
      "Let $\\mathcal{Z} = \\{\\text{All sum of pairwise elements in $\\mathcal{C_i}$} \\quad \\forall i \\in \\{1,2\\} \\}$ and define :\n",
      "\n",
      "\n",
      "\\begin{align}\n",
      "Z:\\Omega &\\longmapsto \\mathcal{Z}  \\\\\n",
      "\\omega &\\longmapsto \\sum_{i \\in \\{1,2\\}} X_i \n",
      "\\end{align}\n",
      "\n",
      "We have :\n",
      "\\begin{align}\n",
      "P_{Z}(z) &= P \\{\\omega : X_1(\\omega) + X_2(\\omega) = z\\} \\\\\n",
      "&= \\sum_{r \\in \\mathcal{C_2}}P \\{\\omega : X_1(\\omega) + r = z, X_2(\\omega) = r\\} \\\\\n",
      "&= \\sum_{r \\in \\mathcal{C_2}}P \\{\\omega : X_1(\\omega) + r = z\\,|\\,X_2(\\omega) = r\\}P_{X_2}(r) \\\\\n",
      "P_{Z}(z) &= \\boxed{\\displaystyle\\sum_{r \\in \\mathcal{C_2}}P_{X_1}(z - r)P_{X_2}(r)}\n",
      "\\end{align}\n",
      "\n",
      "By induction : \n",
      "\n",
      "\\begin{align}\n",
      "P_{Z_n}(z) &= \\sum_{r_n \\in \\mathcal{C_n}}\\Big(P_{X_n}(r_n)\\sum_{r_{n-1} \\in \\mathcal{C}_{n-1}}\\Big(P(z - r_{n-1}) \\dots\n",
      "\\end{align}\n",
      "\n",
      "\n",
      "\n"
     ]
    },
    {
     "cell_type": "heading",
     "level": 3,
     "metadata": {},
     "source": [
      "Continuous random variable"
     ]
    },
    {
     "cell_type": "markdown",
     "metadata": {},
     "source": [
      "$P_X$ absolutly continuous w.r.t the Lebesgue measure $\\mu$:\n",
      "\n",
      "\\begin{align}\n",
      "P_X << \\mu &\\implies \\exists \\; p_d \\quad s.t \\quad P_X = \\int p_d(x)d\\mu\n",
      "\\end{align}\n",
      "The function $p_d$ is then called the $\\textbf{Probability density function}$"
     ]
    },
    {
     "cell_type": "heading",
     "level": 2,
     "metadata": {},
     "source": [
      "Expectation and moments"
     ]
    },
    {
     "cell_type": "markdown",
     "metadata": {},
     "source": [
      "\n",
      "\n",
      "By setting $g(x) = x$, we have using the transformation theorem :\n",
      "\n",
      "\\begin{align}\n",
      "E(g(X)) &= \\int g \\circ X(\\omega)dP(\\omega) = \\int g(x) dP \\circ X^{-1}(x) \\\\\n",
      "&= \\int xdF(x)\n",
      "\\end{align}\n",
      "\n",
      "If now, $X$ has an absolutly continuous distribution $F$, then $F << \\mu$ and if $f$ is the p.d.f (i.e $F(x) = \\int fd\\mu)$ then :\n",
      "\n",
      "\\begin{align}\n",
      "E(X) = \\int xdF(x) = \\int xf(x)d\\mu = \\int xf(x)dx\n",
      "\\end{align}"
     ]
    },
    {
     "cell_type": "heading",
     "level": 2,
     "metadata": {},
     "source": [
      "Independence"
     ]
    },
    {
     "cell_type": "markdown",
     "metadata": {},
     "source": [
      "A and B are $\\textbf{independent}$ events iff $P(A\\cap B) = P(A).P(B)$\n",
      "\n",
      "Let $X_{\\lambda}$ be a random element on $(\\Omega, \\mathcal{F}, P)$ with values in $(Y_{\\lambda}, \\mathcal{S}_{\\lambda})$\n",
      "\n",
      "$\\{X_{\\lambda}\\}$ is an $\\textbf{independent family of random elements}$ iff the classes \n",
      "\\begin{align}\n",
      "\\{\\sigma(X_{\\lambda})\\} = \\{\\sigma(X^{-1}\\mathcal{S}_{\\lambda})\\} = \\sigma\\{X^{-1}(B), B \\in   \\mathcal{S}_{\\lambda}\\} \\quad \\text{are independents.}\n",
      "\\end{align}\n"
     ]
    },
    {
     "cell_type": "code",
     "collapsed": false,
     "input": [
      "from IPython.core.display import HTML\n",
      "\n",
      "HTML(open(\"../styles/custom.css\", \"r\").read())"
     ],
     "language": "python",
     "metadata": {},
     "outputs": [
      {
       "html": [
        "<style>\n",
        "    @font-face {\n",
        "        font-family: \"Computer Modern\";\n",
        "        src: url('http://9dbb143991406a7c655e-aa5fcb0a5a4ec34cff238a2d56ca4144.r56.cf5.rackcdn.com/cmunss.otf');\n",
        "    }\n",
        "    @font-face {\n",
        "        font-family: \"Computer Modern\";\n",
        "        font-weight: bold;\n",
        "        src: url('http://9dbb143991406a7c655e-aa5fcb0a5a4ec34cff238a2d56ca4144.r56.cf5.rackcdn.com/cmunsx.otf');\n",
        "    }\n",
        "    @font-face {\n",
        "        font-family: \"Computer Modern\";\n",
        "        font-style: oblique;\n",
        "        src: url('http://9dbb143991406a7c655e-aa5fcb0a5a4ec34cff238a2d56ca4144.r56.cf5.rackcdn.com/cmunsi.otf');\n",
        "    }\n",
        "    @font-face {\n",
        "        font-family: \"Computer Modern\";\n",
        "        font-weight: bold;\n",
        "        font-style: oblique;\n",
        "        src: url('http://9dbb143991406a7c655e-aa5fcb0a5a4ec34cff238a2d56ca4144.r56.cf5.rackcdn.com/cmunso.otf');\n",
        "    }\n",
        "    div.cell{\n",
        "        width:800px;\n",
        "        margin-left:10% !important;\n",
        "        margin-right:auto;\n",
        "        margin-top:3px;\n",
        "        margin-bottom:3px;\n",
        "    }\n",
        "\n",
        "\n",
        "\t#notebook li { /* More space between bullet points */\n",
        "\t\tmargin-top:10px;\n",
        "\t\tmargin-bottom:10px;\n",
        "\t}\n",
        "\n",
        "    div.text_cell_render{\n",
        "        font-family: Computer Modern, \"Helvetica Neue\", Arial, Helvetica, Geneva, sans-serif;\n",
        "        line-height: 100%;\n",
        "        font-size: 120%;\n",
        "        width:800px;\n",
        "        margin-left:auto;\n",
        "        margin-right:auto;\n",
        "    }\n",
        "    .CodeMirror{\n",
        "            font-family: \"Source Code Pro\", source-code-pro,Consolas, monospace;\n",
        "    }\n",
        "    .prompt{\n",
        "        display: None;\n",
        "    }\n",
        "\t/*\n",
        "    div.text_cell_render.border-box-sizing.rendered_html {\n",
        "    margin: 0;\n",
        "    padding: 0; \n",
        "\t}\n",
        "\t*/\n",
        "\n",
        "\tdiv.text_cell_render h1 { /* Main titles bigger, centered */\n",
        "\t\ttext-align:center;\n",
        "\t}\n",
        "\n",
        "\tdiv.text_cell_render h3 { \n",
        "\t\tmargin-top:50px;\n",
        "\t\tmargin-bottom:10px;\n",
        "\t}\n",
        "\tdiv.text_cell_render h4 { \n",
        "\t\tmargin-top:50px;\n",
        "\t\tmargin-bottom:10px;\n",
        "\t}\n",
        "\n",
        "\n",
        "    .warning{\n",
        "        color: rgb( 240, 20, 20 )\n",
        "        }  \n",
        "</style>\n",
        "\n",
        "<script>\n",
        "    MathJax.Hub.Config({\n",
        "                        TeX: {\n",
        "                           extensions: [\"AMSmath.js\"]\n",
        "                           },\n",
        "                tex2jax: {\n",
        "                    inlineMath: [ ['$','$'], [\"\\\\(\",\"\\\\)\"] ],\n",
        "                    displayMath: [ ['$$','$$'], [\"\\\\[\",\"\\\\]\"] ]\n",
        "                },\n",
        "                displayAlign: 'center', // Change this to 'center' to center equations.\n",
        "                \"HTML-CSS\": {\n",
        "                    styles: {'.MathJax_Display': {\"margin\": 4}}\n",
        "                }\n",
        "        });\n",
        "</script>\n"
       ],
       "metadata": {},
       "output_type": "pyout",
       "prompt_number": 1,
       "text": [
        "<IPython.core.display.HTML at 0x1078d17d0>"
       ]
      }
     ],
     "prompt_number": 1
    },
    {
     "cell_type": "code",
     "collapsed": false,
     "input": [],
     "language": "python",
     "metadata": {},
     "outputs": []
    }
   ],
   "metadata": {}
  }
 ]
}