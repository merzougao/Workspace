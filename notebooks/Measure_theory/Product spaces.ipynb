{
 "metadata": {
  "name": "",
  "signature": "sha256:fccdb77b69e742a88c0690c770525b18bb8ed33e82b3ec693d82e6b93ada575e"
 },
 "nbformat": 3,
 "nbformat_minor": 0,
 "worksheets": [
  {
   "cells": [
    {
     "cell_type": "heading",
     "level": 1,
     "metadata": {},
     "source": [
      "Product spaces"
     ]
    },
    {
     "cell_type": "markdown",
     "metadata": {},
     "source": [
      "Let $(X,\\mathcal{S},\\mu)$ and $(W,\\mathcal{W})$ be respectively a measure space and a measurable space.\n",
      "\n",
      "$X\\times W = \\{(x,y) : x \\in X, y \\in W\\}$ is called the $\\textbf{product space}$.\n",
      "\n",
      "$T_x:(X\\times W ) \\longmapsto  X$ is called the $\\textbf{X-section}$ or the $\\textbf{Projection function}$ if $T_x(x,w) = x$"
     ]
    },
    {
     "cell_type": "heading",
     "level": 3,
     "metadata": {},
     "source": [
      "Mixture of measures"
     ]
    },
    {
     "cell_type": "markdown",
     "metadata": {},
     "source": [
      "Let $v : (X, \\mathcal{W}) \\longmapsto \\mathbb{R} $ be a function defined by :\n",
      "\n",
      "* $v(\\bullet, E) = v_x(E)$ measure on $\\mathcal{W}$ for $x \\in X$ fixed \n",
      "\n",
      "* $v(x, \\bullet) = v_E(x)$ is $\\mathcal{S}$-measurable for $E \\in \\mathcal{W}$ fixed\n",
      "\n",
      "* f is always assumed to be measurable non negative"
     ]
    },
    {
     "cell_type": "markdown",
     "metadata": {},
     "source": [
      "*********************\n",
      "$\\underline{\\text{Integration of }f:W \\longmapsto \\mathbb{R} \\quad w.r.t \\quad \\lambda \\:on\\: \\mathcal{W}}$"
     ]
    },
    {
     "cell_type": "markdown",
     "metadata": {},
     "source": [
      "For $E \\in \\mathcal{W}$ we define the measure :\n",
      "\\begin{align}\n",
      "\\lambda(E) = \\int_X v_E(x)\\:d\\mu(x)\\quad \\text{is a measure on } \\mathcal{W}\n",
      "\\end{align}"
     ]
    },
    {
     "cell_type": "markdown",
     "metadata": {},
     "source": [
      "Let's define the non negative $\\mathcal{S}$-measurable function a.e as :\n",
      "\n",
      "\\begin{align}\n",
      "g : X &\\longmapsto \\mathbb{R} \\\\\n",
      "x &\\longmapsto \\int_{\\mathcal{W}}f(E)\\:dv_x(E) = \\int f\\:dv_x\n",
      "\\end{align}"
     ]
    },
    {
     "cell_type": "markdown",
     "metadata": {},
     "source": [
      "We have then : \n",
      "\n",
      "\\begin{align}\n",
      "\\int_{\\mathcal{W}}f(E)\\:d\\lambda(E) &= \\int_X\\Big(\\int_{\\mathcal{W}}f(E)\\:dv_x(E)\\Big)d\\mu(x) \\\\\n",
      "\\int_{\\mathcal{W}}f\\:d\\lambda &= \\int_X\\int_{\\mathcal{W}}f\\:dv_xd\\mu\n",
      "\\end{align}"
     ]
    },
    {
     "cell_type": "markdown",
     "metadata": {},
     "source": [
      "*********************\n",
      "$\\underline{\\text{Integration of }f :S\\times W \\longmapsto \\mathbb{R} \\quad w.r.t \\quad \\lambda \\:on\\: \\mathcal{S\\times W}}$"
     ]
    },
    {
     "cell_type": "markdown",
     "metadata": {},
     "source": [
      "For $E = A \\times B$ we define the measure on $\\mathcal{S \\times W}$ :\n",
      "\n",
      "\\begin{align}\n",
      "\\lambda(E) &= \\int_X v_{T_x^{-1}E}(x)\\:d\\mu(x) = \\int_X v_{B\\mathbb{1}_A}(x)\\:d\\mu(x)\\\\\n",
      "\\lambda(A\\times B) &= \\int_A v_B(x)\\:d\\mu(x) = \\int_A v_B\\:d\\mu \\\\ \n",
      "\\end{align}"
     ]
    },
    {
     "cell_type": "markdown",
     "metadata": {},
     "source": [
      "Let's define the non negative $\\mathcal{S}$ - measurable function a.e as :\n",
      "\n",
      "\n",
      "\\begin{align}\n",
      "g:X &\\longmapsto \\mathbb{R} \\\\\n",
      "x &\\longmapsto \\int_{\\mathcal{W}}f(T_x^{-1}E)\\:dv_x(E) = \\int_{\\mathcal{W}}fT_x^{-1}\\:dv_x \\\\\n",
      "x &\\longmapsto \\int_{\\mathcal{W}}f_x\\:dv_x\n",
      "\\end{align}"
     ]
    },
    {
     "cell_type": "markdown",
     "metadata": {},
     "source": [
      "We have then:\n",
      "\n",
      "\\begin{align}\n",
      "\\int_{X\\times Y}f(E)\\:d\\lambda(E) &= \\int_X\\Big(\\int_{\\mathcal{W}}f_x(E)\\:dv_x(E)\\Big)d\\mu(x) \\\\\n",
      "\\int_{X\\times W}f\\:d\\lambda &= \\int_X\\int_{\\mathcal{W}}f_x\\:dv_xd\\mu\n",
      "\\end{align}"
     ]
    },
    {
     "cell_type": "heading",
     "level": 2,
     "metadata": {},
     "source": [
      "Product measure"
     ]
    },
    {
     "cell_type": "markdown",
     "metadata": {},
     "source": [
      "For $E = A \\times B$ we take the measure $v$ to be non dependent on x. So the product measure becomes :\n",
      "\n",
      "\\begin{align}\n",
      "\\lambda(E) &= \\int_X v_B\\mathbb{1}_A\\:d\\mu(x) \\\\\n",
      "\\lambda(E) &= v(B)\\mu(A)\n",
      "\\end{align}"
     ]
    },
    {
     "cell_type": "heading",
     "level": 2,
     "metadata": {},
     "source": [
      "Fubini Theorem"
     ]
    },
    {
     "cell_type": "markdown",
     "metadata": {},
     "source": [
      "* $(X, \\mathcal{S}, \\mu)$ and $(Y, \\mathcal{T}, \\mathcal{v})$ $\\sigma$-finite measure spaces\n",
      "\n",
      "* f is an $\\mathcal{S} \\times \\mathcal{T}$-measurable non negative function defined a.e $(\\lambda = \\mu \\times \\mathcal{v})$\n",
      "\n",
      "\\begin{align}\n",
      "\\int_{X \\times Y}fd\\lambda = \\int_X \\Big(\\int_Yf_xd\\mathcal{v}\\Big)d\\mu(x) = \\int_Y \\Big(\\int_Xf_yd\\mu\\Big)d\\mathcal{v}(y)\n",
      "\\end{align}\n"
     ]
    },
    {
     "cell_type": "code",
     "collapsed": false,
     "input": [
      "from IPython.core.display import HTML\n",
      "\n",
      "HTML(open(\"../styles/custom.css\", \"r\").read())"
     ],
     "language": "python",
     "metadata": {},
     "outputs": [
      {
       "html": [
        "<style>\n",
        "    @font-face {\n",
        "        font-family: \"Computer Modern\";\n",
        "        src: url('http://9dbb143991406a7c655e-aa5fcb0a5a4ec34cff238a2d56ca4144.r56.cf5.rackcdn.com/cmunss.otf');\n",
        "    }\n",
        "    @font-face {\n",
        "        font-family: \"Computer Modern\";\n",
        "        font-weight: bold;\n",
        "        src: url('http://9dbb143991406a7c655e-aa5fcb0a5a4ec34cff238a2d56ca4144.r56.cf5.rackcdn.com/cmunsx.otf');\n",
        "    }\n",
        "    @font-face {\n",
        "        font-family: \"Computer Modern\";\n",
        "        font-style: oblique;\n",
        "        src: url('http://9dbb143991406a7c655e-aa5fcb0a5a4ec34cff238a2d56ca4144.r56.cf5.rackcdn.com/cmunsi.otf');\n",
        "    }\n",
        "    @font-face {\n",
        "        font-family: \"Computer Modern\";\n",
        "        font-weight: bold;\n",
        "        font-style: oblique;\n",
        "        src: url('http://9dbb143991406a7c655e-aa5fcb0a5a4ec34cff238a2d56ca4144.r56.cf5.rackcdn.com/cmunso.otf');\n",
        "    }\n",
        "    div.cell{\n",
        "        width:800px;\n",
        "        margin-left:10% !important;\n",
        "        margin-right:auto;\n",
        "        margin-top:3px;\n",
        "        margin-bottom:3px;\n",
        "    }\n",
        "\n",
        "\n",
        "\t#notebook li { /* More space between bullet points */\n",
        "\t\tmargin-top:10px;\n",
        "\t\tmargin-bottom:10px;\n",
        "\t}\n",
        "\n",
        "    div.text_cell_render{\n",
        "        font-family: Computer Modern, \"Helvetica Neue\", Arial, Helvetica, Geneva, sans-serif;\n",
        "        line-height: 100%;\n",
        "        font-size: 120%;\n",
        "        width:800px;\n",
        "        margin-left:auto;\n",
        "        margin-right:auto;\n",
        "    }\n",
        "    .CodeMirror{\n",
        "            font-family: \"Source Code Pro\", source-code-pro,Consolas, monospace;\n",
        "    }\n",
        "    .prompt{\n",
        "        display: None;\n",
        "    }\n",
        "\t/*\n",
        "    div.text_cell_render.border-box-sizing.rendered_html {\n",
        "    margin: 0;\n",
        "    padding: 0; \n",
        "\t}\n",
        "\t*/\n",
        "\n",
        "\tdiv.text_cell_render h1 { /* Main titles bigger, centered */\n",
        "\t\ttext-align:center;\n",
        "\t}\n",
        "\n",
        "\tdiv.text_cell_render h3 { \n",
        "\t\tmargin-top:50px;\n",
        "\t\tmargin-bottom:10px;\n",
        "\t}\n",
        "\tdiv.text_cell_render h4 { \n",
        "\t\tmargin-top:50px;\n",
        "\t\tmargin-bottom:10px;\n",
        "\t}\n",
        "\n",
        "\n",
        "    .warning{\n",
        "        color: rgb( 240, 20, 20 )\n",
        "        }  \n",
        "</style>\n",
        "\n",
        "<script>\n",
        "    MathJax.Hub.Config({\n",
        "                        TeX: {\n",
        "                           extensions: [\"AMSmath.js\"]\n",
        "                           },\n",
        "                tex2jax: {\n",
        "                    inlineMath: [ ['$','$'], [\"\\\\(\",\"\\\\)\"] ],\n",
        "                    displayMath: [ ['$$','$$'], [\"\\\\[\",\"\\\\]\"] ]\n",
        "                },\n",
        "                displayAlign: 'center', // Change this to 'center' to center equations.\n",
        "                \"HTML-CSS\": {\n",
        "                    styles: {'.MathJax_Display': {\"margin\": 4}}\n",
        "                }\n",
        "        });\n",
        "</script>\n"
       ],
       "metadata": {},
       "output_type": "pyout",
       "prompt_number": 1,
       "text": [
        "<IPython.core.display.HTML at 0x101fc4690>"
       ]
      }
     ],
     "prompt_number": 1
    },
    {
     "cell_type": "code",
     "collapsed": false,
     "input": [],
     "language": "python",
     "metadata": {},
     "outputs": [],
     "prompt_number": 1
    }
   ],
   "metadata": {}
  }
 ]
}