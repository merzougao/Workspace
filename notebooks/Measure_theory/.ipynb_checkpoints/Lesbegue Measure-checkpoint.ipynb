{
 "metadata": {
  "name": "",
  "signature": "sha256:78015d1b8770a70ab540471c5a9ba8b5037cca0ae61299f8b8c1a7175bcf9148"
 },
 "nbformat": 3,
 "nbformat_minor": 0,
 "worksheets": []
}