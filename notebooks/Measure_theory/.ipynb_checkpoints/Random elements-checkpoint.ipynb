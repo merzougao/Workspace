{
 "metadata": {
  "name": "",
  "signature": "sha256:788c1ce37f02f2b9ea3e889d91e41c8e8fd930796bdac72c51716defe36faf0a"
 },
 "nbformat": 3,
 "nbformat_minor": 0,
 "worksheets": [
  {
   "cells": [
    {
     "cell_type": "heading",
     "level": 1,
     "metadata": {},
     "source": [
      "Random Elements"
     ]
    },
    {
     "cell_type": "markdown",
     "metadata": {},
     "source": [
      "$(\\Omega, \\mathcal{F}, P)$ is a $\\textbf{Probability space}$\n",
      "\n",
      "A $\\textbf{Random variable}$ is a measurable function $X : \\Omega \\rightarrow \\mathbb{R}^*$\n",
      "\n",
      "A $\\textbf{Random element}$ is a measurable transformation $X : \\Omega \\rightarrow Y$ with $(Y, \\mathcal{S})$ measurable space.\n",
      "\n",
      "\n",
      "\n",
      "The $\\textbf{Distribution}$ of X is the induced measure $PX^{-1} : \\mathcal{B}^* \\rightarrow \\mathcal{R}^*$. We write :\n",
      "\n",
      "\\begin{align}\n",
      "PX^{-1}(B) = P\\{X \\in B\\} \\quad \\forall B \\in \\mathcal{B}^*\n",
      "\\end{align}"
     ]
    },
    {
     "cell_type": "heading",
     "level": 2,
     "metadata": {},
     "source": [
      "Distribution Function"
     ]
    },
    {
     "cell_type": "markdown",
     "metadata": {},
     "source": [
      "$PX^{-1}$ is a measure on $(\\mathbb{R}, \\mathcal{B})$. So it is a Lebesgue-Stieltjes measure :\n",
      "\n",
      "\\begin{align}\n",
      "F(x) = PX^{-1}\\{(-\\infty, x\\} = P\\{x \\leq x\\}\n",
      "\\end{align}\n",
      "\n",
      "$F:\\mathbb{R}\\rightarrow \\mathbb{R}$ is called the $\\textbf{Distribution function}$ of $X$\n",
      "\n",
      "***********************************************************************\n",
      "***********************************************************************\n",
      "\n",
      "$\\underline{\\text{Discrete Probability distribution}}$\n",
      "\n",
      "$\\exists C \\in \\mathcal{B} \\quad PX^{-1}(C^c) = 0$. Write $C = \\{x_1, x_2, ...\\}$ with $PX^{-1}\\{x_i\\} = p_i$ Then :\n",
      "\n",
      "\\begin{align}\n",
      "PX^{-1}(B) = PX^{-1}(B\\cap C) = \\sum_{\\{x_i \\in B\\}}p_i \\implies F(x) = \\sum_{\\{x_i \\leq x\\}}p_i\n",
      "\\end{align}\n",
      "\n",
      "And we call $f$ the $\\textbf{Probability mass function}$\n",
      "\\begin{align}\n",
      "f:\\mathbb{R} \\rightarrow \\mathbb{R} \\quad \\text{s.t} \\quad \n",
      "f(x) = \n",
      "\\begin{cases}\n",
      "p_i \\;&if \\; x=x_i\\\\ \n",
      "0 \\;&otherwise\n",
      "\\end{cases}\n",
      "\\end{align}\n",
      "\n",
      "***********************************************************************\n",
      "***********************************************************************\n",
      "$\\underline{\\text{Continuous Probability distribution}}$\n",
      "\n",
      "$PX^{-1}$ absolutly continuous w.r.t the Lebesgue measure $\\mu$:\n",
      "\n",
      "\\begin{align}\n",
      "PX^{-1} << \\mu &\\implies \\exists f \\quad s.t \\quad PX^{-1} = \\int f(x)d\\mu \\\\\n",
      "&\\implies F(x) = \\int_{-\\infty}^x f(x)d\\mu\n",
      "\\end{align}\n",
      "The function $f$ is then called the $\\textbf{Probability density function}$"
     ]
    },
    {
     "cell_type": "heading",
     "level": 2,
     "metadata": {},
     "source": [
      "Expectation and moments"
     ]
    },
    {
     "cell_type": "markdown",
     "metadata": {},
     "source": [
      "$E(X) = \\int X(\\omega)dP(\\omega)$ is called $\\textbf{Expectation}$ of the random variable $X$.\n",
      "\n",
      "By setting $g(x) = x$, we have using the transformation theorem :\n",
      "\n",
      "\\begin{align}\n",
      "E(g(X)) = E(X) &= \\int g \\circ X(\\omega)dP(\\omega) = \\int g(x) dP \\circ X^{-1}(x) \\\\\n",
      "&= \\int xdF(x)\n",
      "\\end{align}\n",
      "\n",
      "If now, $X$ has an absolutly continuous distribution $F$, then $F << \\mu$ and if $f$ is the p.d.f (i.e $F(x) = \\int fd\\mu)$ then :\n",
      "\n",
      "\\begin{align}\n",
      "E(X) = \\int xdF(x) = \\int xf(x)d\\mu = \\int xf(x)dx\n",
      "\\end{align}"
     ]
    },
    {
     "cell_type": "heading",
     "level": 2,
     "metadata": {},
     "source": [
      "Independence"
     ]
    },
    {
     "cell_type": "markdown",
     "metadata": {},
     "source": [
      "A and B are $\\textbf{independent}$ events iff $P(A\\cap B) = P(A).P(B)$\n",
      "\n",
      "Let $X_{\\lambda}$ be a random element on $(\\Omega, \\mathcal{F}, P)$ with values in $(Y_{\\lambda}, \\mathcal{S}_{\\lambda})$\n",
      "\n",
      "$\\{X_{\\lambda}\\}$ is an $\\textbf{independent family of random elements}$ iff the classes \n",
      "\\begin{align}\n",
      "\\{\\sigma(X_{\\lambda})\\} = \\{\\sigma(X^{-1}\\mathcal{S}_{\\lambda})\\} = \\sigma\\{X^{-1}(B), B \\in   \\mathcal{S}_{\\lambda}\\} \\quad \\text{are independents.}\n",
      "\\end{align}\n"
     ]
    },
    {
     "cell_type": "code",
     "collapsed": false,
     "input": [
      "from IPython.core.display import HTML\n",
      "\n",
      "HTML(open(\"../styles/custom.css\", \"r\").read())"
     ],
     "language": "python",
     "metadata": {},
     "outputs": [
      {
       "html": [
        "<style>\n",
        "    @font-face {\n",
        "        font-family: \"Computer Modern\";\n",
        "        src: url('http://9dbb143991406a7c655e-aa5fcb0a5a4ec34cff238a2d56ca4144.r56.cf5.rackcdn.com/cmunss.otf');\n",
        "    }\n",
        "    @font-face {\n",
        "        font-family: \"Computer Modern\";\n",
        "        font-weight: bold;\n",
        "        src: url('http://9dbb143991406a7c655e-aa5fcb0a5a4ec34cff238a2d56ca4144.r56.cf5.rackcdn.com/cmunsx.otf');\n",
        "    }\n",
        "    @font-face {\n",
        "        font-family: \"Computer Modern\";\n",
        "        font-style: oblique;\n",
        "        src: url('http://9dbb143991406a7c655e-aa5fcb0a5a4ec34cff238a2d56ca4144.r56.cf5.rackcdn.com/cmunsi.otf');\n",
        "    }\n",
        "    @font-face {\n",
        "        font-family: \"Computer Modern\";\n",
        "        font-weight: bold;\n",
        "        font-style: oblique;\n",
        "        src: url('http://9dbb143991406a7c655e-aa5fcb0a5a4ec34cff238a2d56ca4144.r56.cf5.rackcdn.com/cmunso.otf');\n",
        "    }\n",
        "    div.cell{\n",
        "        width:800px;\n",
        "        margin-left:10% !important;\n",
        "        margin-right:auto;\n",
        "        margin-top:3px;\n",
        "        margin-bottom:3px;\n",
        "    }\n",
        "\n",
        "\n",
        "\t#notebook li { /* More space between bullet points */\n",
        "\t\tmargin-top:10px;\n",
        "\t\tmargin-bottom:10px;\n",
        "\t}\n",
        "\n",
        "    div.text_cell_render{\n",
        "        font-family: Computer Modern, \"Helvetica Neue\", Arial, Helvetica, Geneva, sans-serif;\n",
        "        line-height: 100%;\n",
        "        font-size: 120%;\n",
        "        width:800px;\n",
        "        margin-left:auto;\n",
        "        margin-right:auto;\n",
        "    }\n",
        "    .CodeMirror{\n",
        "            font-family: \"Source Code Pro\", source-code-pro,Consolas, monospace;\n",
        "    }\n",
        "    .prompt{\n",
        "        display: None;\n",
        "    }\n",
        "\t/*\n",
        "    div.text_cell_render.border-box-sizing.rendered_html {\n",
        "    margin: 0;\n",
        "    padding: 0; \n",
        "\t}\n",
        "\t*/\n",
        "\n",
        "\tdiv.text_cell_render h1 { /* Main titles bigger, centered */\n",
        "\t\ttext-align:center;\n",
        "\t}\n",
        "\n",
        "\tdiv.text_cell_render h3 { \n",
        "\t\tmargin-top:50px;\n",
        "\t\tmargin-bottom:10px;\n",
        "\t}\n",
        "\tdiv.text_cell_render h4 { \n",
        "\t\tmargin-top:50px;\n",
        "\t\tmargin-bottom:10px;\n",
        "\t}\n",
        "\n",
        "\n",
        "    .warning{\n",
        "        color: rgb( 240, 20, 20 )\n",
        "        }  \n",
        "</style>\n",
        "\n",
        "<script>\n",
        "    MathJax.Hub.Config({\n",
        "                        TeX: {\n",
        "                           extensions: [\"AMSmath.js\"]\n",
        "                           },\n",
        "                tex2jax: {\n",
        "                    inlineMath: [ ['$','$'], [\"\\\\(\",\"\\\\)\"] ],\n",
        "                    displayMath: [ ['$$','$$'], [\"\\\\[\",\"\\\\]\"] ]\n",
        "                },\n",
        "                displayAlign: 'center', // Change this to 'center' to center equations.\n",
        "                \"HTML-CSS\": {\n",
        "                    styles: {'.MathJax_Display': {\"margin\": 4}}\n",
        "                }\n",
        "        });\n",
        "</script>\n"
       ],
       "metadata": {},
       "output_type": "pyout",
       "prompt_number": 1,
       "text": [
        "<IPython.core.display.HTML at 0x1078d17d0>"
       ]
      }
     ],
     "prompt_number": 1
    },
    {
     "cell_type": "code",
     "collapsed": false,
     "input": [],
     "language": "python",
     "metadata": {},
     "outputs": []
    }
   ],
   "metadata": {}
  }
 ]
}