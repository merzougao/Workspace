{
 "metadata": {
  "name": "",
  "signature": "sha256:6fe64fee976e3a2056c1d0e0cf3d5f76e0c5bea8582d4965b12b2a7946367021"
 },
 "nbformat": 3,
 "nbformat_minor": 0,
 "worksheets": [
  {
   "cells": [
    {
     "cell_type": "heading",
     "level": 2,
     "metadata": {},
     "source": [
      "Mixture of measures"
     ]
    },
    {
     "cell_type": "markdown",
     "metadata": {},
     "source": [
      "> $(X,\\mathcal{S},\\mu)$ measure space and $(W,\\mathcal{W})$ measurable space\n",
      "\n",
      "> $\\lambda_x(E)$ is a measure on $\\mathcal{W}$ for $x \\in X$ fixed\n",
      "\n",
      "> $\\lambda_x(E)$ is $\\mathcal{S}$-measurable for $E \\in \\mathcal{W}$ fixed\n",
      "\n",
      "\\begin{align}\n",
      "\\lambda(E) = \\int \\lambda_x(E)d\\mu(x)\\quad \\text{is a measure on } \\mathcal{W}\n",
      "\\end{align}\n",
      "\n",
      "> f non negative function defined on all $\\mathcal{W}$\n",
      "\n",
      "* $\\int_{\\mathcal{W}}fd\\lambda_x$ is non negative $\\mathcal{S}$-measurable function define a.e $(\\mu)$ on $X$\n",
      "\n",
      "* $\\int_{\\mathcal{W}}fd\\lambda = \\int_X\\quad(\\int_{\\mathcal{W}}fd\\lambda_x)\\quad d\\mu(x)$"
     ]
    },
    {
     "cell_type": "code",
     "collapsed": false,
     "input": [
      "from IPython.core.display import HTML\n",
      "\n",
      "HTML(open(\"../styles/custom.css\", \"r\").read())"
     ],
     "language": "python",
     "metadata": {},
     "outputs": [
      {
       "html": [
        "<style>\n",
        "    @font-face {\n",
        "        font-family: \"Computer Modern\";\n",
        "        src: url('http://9dbb143991406a7c655e-aa5fcb0a5a4ec34cff238a2d56ca4144.r56.cf5.rackcdn.com/cmunss.otf');\n",
        "    }\n",
        "    @font-face {\n",
        "        font-family: \"Computer Modern\";\n",
        "        font-weight: bold;\n",
        "        src: url('http://9dbb143991406a7c655e-aa5fcb0a5a4ec34cff238a2d56ca4144.r56.cf5.rackcdn.com/cmunsx.otf');\n",
        "    }\n",
        "    @font-face {\n",
        "        font-family: \"Computer Modern\";\n",
        "        font-style: oblique;\n",
        "        src: url('http://9dbb143991406a7c655e-aa5fcb0a5a4ec34cff238a2d56ca4144.r56.cf5.rackcdn.com/cmunsi.otf');\n",
        "    }\n",
        "    @font-face {\n",
        "        font-family: \"Computer Modern\";\n",
        "        font-weight: bold;\n",
        "        font-style: oblique;\n",
        "        src: url('http://9dbb143991406a7c655e-aa5fcb0a5a4ec34cff238a2d56ca4144.r56.cf5.rackcdn.com/cmunso.otf');\n",
        "    }\n",
        "    div.cell{\n",
        "        width:800px;\n",
        "        margin-left:10% !important;\n",
        "        margin-right:auto;\n",
        "        margin-top:3px;\n",
        "        margin-bottom:3px;\n",
        "    }\n",
        "\n",
        "\n",
        "\t#notebook li { /* More space between bullet points */\n",
        "\t\tmargin-top:10px;\n",
        "\t}\n",
        "\n",
        "    div.text_cell_render{\n",
        "        font-family: Computer Modern, \"Helvetica Neue\", Arial, Helvetica, Geneva, sans-serif;\n",
        "        line-height: 100%;\n",
        "        font-size: 130%;\n",
        "        width:800px;\n",
        "        margin-left:auto;\n",
        "        margin-right:auto;\n",
        "    }\n",
        "    .CodeMirror{\n",
        "            font-family: \"Source Code Pro\", source-code-pro,Consolas, monospace;\n",
        "    }\n",
        "    .prompt{\n",
        "        display: None;\n",
        "    }\n",
        "\t/*\n",
        "    div.text_cell_render.border-box-sizing.rendered_html {\n",
        "    margin: 0;\n",
        "    padding: 0; \n",
        "\t}\n",
        "\t*/\n",
        "\n",
        "\tdiv.text_cell_render h1 { /* Main titles bigger, centered */\n",
        "\t\ttext-align:center;\n",
        "\t}\n",
        "\n",
        "\tdiv.text_cell_render h3 { \n",
        "\t\tmargin-top:50px;\n",
        "\t\tmargin-bottom:10px;\n",
        "\t}\n",
        "\tdiv.text_cell_render h4 { \n",
        "\t\tmargin-top:50px;\n",
        "\t\tmargin-bottom:10px;\n",
        "\t}\n",
        "\n",
        "\n",
        "    .warning{\n",
        "        color: rgb( 240, 20, 20 )\n",
        "        }  \n",
        "</style>\n",
        "\n",
        "<script>\n",
        "    MathJax.Hub.Config({\n",
        "                        TeX: {\n",
        "                           extensions: [\"AMSmath.js\"]\n",
        "                           },\n",
        "                tex2jax: {\n",
        "                    inlineMath: [ ['$','$'], [\"\\\\(\",\"\\\\)\"] ],\n",
        "                    displayMath: [ ['$$','$$'], [\"\\\\[\",\"\\\\]\"] ]\n",
        "                },\n",
        "                displayAlign: 'center', // Change this to 'center' to center equations.\n",
        "                \"HTML-CSS\": {\n",
        "                    styles: {'.MathJax_Display': {\"margin\": 4}}\n",
        "                }\n",
        "        });\n",
        "</script>\n"
       ],
       "metadata": {},
       "output_type": "pyout",
       "prompt_number": 2,
       "text": [
        "<IPython.core.display.HTML at 0x105fa2f50>"
       ]
      }
     ],
     "prompt_number": 2
    },
    {
     "cell_type": "code",
     "collapsed": false,
     "input": [],
     "language": "python",
     "metadata": {},
     "outputs": []
    }
   ],
   "metadata": {}
  }
 ]
}